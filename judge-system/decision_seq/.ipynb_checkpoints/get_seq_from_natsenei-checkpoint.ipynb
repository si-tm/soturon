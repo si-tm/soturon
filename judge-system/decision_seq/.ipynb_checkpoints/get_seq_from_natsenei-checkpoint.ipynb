{
 "cells": [
  {
   "cell_type": "code",
   "execution_count": 1,
   "metadata": {},
   "outputs": [
    {
     "ename": "ModuleNotFoundError",
     "evalue": "No module named 'qdpy'",
     "output_type": "error",
     "traceback": [
      "\u001b[0;31m---------------------------------------------------------------------------\u001b[0m",
      "\u001b[0;31mModuleNotFoundError\u001b[0m                       Traceback (most recent call last)",
      "\u001b[0;32m<ipython-input-1-4441f7033752>\u001b[0m in \u001b[0;36m<module>\u001b[0;34m\u001b[0m\n\u001b[1;32m      2\u001b[0m \u001b[0;32mfrom\u001b[0m \u001b[0mglob\u001b[0m \u001b[0;32mimport\u001b[0m \u001b[0mglob\u001b[0m\u001b[0;34m\u001b[0m\u001b[0;34m\u001b[0m\u001b[0m\n\u001b[1;32m      3\u001b[0m \u001b[0;32mimport\u001b[0m \u001b[0msys\u001b[0m\u001b[0;34m\u001b[0m\u001b[0;34m\u001b[0m\u001b[0m\n\u001b[0;32m----> 4\u001b[0;31m \u001b[0;32mfrom\u001b[0m \u001b[0mqdpy\u001b[0m\u001b[0;34m.\u001b[0m\u001b[0mphenotype\u001b[0m \u001b[0;32mimport\u001b[0m \u001b[0mIndividual\u001b[0m\u001b[0;34m\u001b[0m\u001b[0;34m\u001b[0m\u001b[0m\n\u001b[0m",
      "\u001b[0;31mModuleNotFoundError\u001b[0m: No module named 'qdpy'"
     ]
    }
   ],
   "source": [
    "import pickle\n",
    "from glob import glob\n",
    "import sys\n",
    "from qdpy.phenotype import Individual"
   ]
  },
  {
   "cell_type": "code",
   "execution_count": 8,
   "metadata": {},
   "outputs": [],
   "source": [
    "class Custom_unpickler(pickle._Unpickler):\n",
    "\n",
    "    current_module = {\"Individual\": \"qdpy.phenotype\", \"Fitness\": \"qdpy.phenotype\"}\n",
    "    \n",
    "    def find_class(self, module, name):\n",
    "        if name in Custom_unpickler.current_module:\n",
    "            module = Custom_unpickler.current_module[name] #backward compatibility\n",
    "        sys.audit('pickle.find_class', module, name)\n",
    "        if self.proto < 3 and self.fix_imports:\n",
    "            if (module, name) in _compat_pickle.NAME_MAPPING:\n",
    "                module, name = _compat_pickle.NAME_MAPPING[(module, name)]\n",
    "            elif module in _compat_pickle.IMPORT_MAPPING:\n",
    "                module = _compat_pickle.IMPORT_MAPPING[module]\n",
    "        __import__(module, level=0)\n",
    "        if self.proto >= 4:\n",
    "            return pickle._getattribute(sys.modules[module], name)[0]\n",
    "        else:\n",
    "            return getattr(sys.modules[module], name)"
   ]
  },
  {
   "cell_type": "code",
   "execution_count": 9,
   "metadata": {},
   "outputs": [
    {
     "name": "stdout",
     "output_type": "stream",
     "text": [
      "final_20200904125819.p\n",
      "final_20200904075059.p\n",
      "final_20200904050205.p\n",
      "final_20200904022205.p\n",
      "final_20200904104014.p\n"
     ]
    }
   ],
   "source": [
    "for f in glob(\"final*.p\"):\n",
    "    print(f)"
   ]
  },
  {
   "cell_type": "code",
   "execution_count": 10,
   "metadata": {},
   "outputs": [],
   "source": [
    "def get_res(filename):\n",
    "    res = None\n",
    "    with open(filename,\"rb\") as f:\n",
    "        res = Custom_unpickler(f,fix_imports=True, encoding=\"ASCII\", errors=\"strict\",\n",
    "          buffers=None).load()\n",
    "    return res\n",
    "    "
   ]
  },
  {
   "cell_type": "code",
   "execution_count": 23,
   "metadata": {},
   "outputs": [],
   "source": [
    "all_res = [get_res(f) for f in glob(\"final*.p\")]"
   ]
  },
  {
   "cell_type": "code",
   "execution_count": 33,
   "metadata": {},
   "outputs": [
    {
     "data": {
      "text/plain": [
       "[<submitPepperCorn.PepperDomain at 0x17bbdac70>,\n",
       " <submitPepperCorn.PepperDomain at 0x17ae5e160>]"
      ]
     },
     "execution_count": 33,
     "metadata": {},
     "output_type": "execute_result"
    }
   ],
   "source": [
    "all_res[0]['container'][0].domains[]"
   ]
  },
  {
   "cell_type": "code",
   "execution_count": null,
   "metadata": {},
   "outputs": [],
   "source": []
  }
 ],
 "metadata": {
  "kernelspec": {
   "display_name": "Python 3",
   "language": "python",
   "name": "python3"
  }
 },
 "nbformat": 4,
 "nbformat_minor": 5
}
