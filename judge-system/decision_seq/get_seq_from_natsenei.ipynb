{
 "cells": [
  {
   "cell_type": "code",
   "execution_count": 2,
   "metadata": {},
   "outputs": [],
   "source": [
    "import pickle\n",
    "from glob import glob\n",
    "import sys\n",
    "from qdpy.phenotype import Individual"
   ]
  },
  {
   "cell_type": "code",
   "execution_count": 3,
   "metadata": {},
   "outputs": [],
   "source": [
    "class Custom_unpickler(pickle._Unpickler):\n",
    "\n",
    "    current_module = {\"Individual\": \"qdpy.phenotype\", \"Fitness\": \"qdpy.phenotype\"}\n",
    "    \n",
    "    def find_class(self, module, name):\n",
    "        if name in Custom_unpickler.current_module:\n",
    "            module = Custom_unpickler.current_module[name] #backward compatibility\n",
    "        sys.audit('pickle.find_class', module, name)\n",
    "        if self.proto < 3 and self.fix_imports:\n",
    "            if (module, name) in _compat_pickle.NAME_MAPPING:\n",
    "                module, name = _compat_pickle.NAME_MAPPING[(module, name)]\n",
    "            elif module in _compat_pickle.IMPORT_MAPPING:\n",
    "                module = _compat_pickle.IMPORT_MAPPING[module]\n",
    "        __import__(module, level=0)\n",
    "        if self.proto >= 4:\n",
    "            return pickle._getattribute(sys.modules[module], name)[0]\n",
    "        else:\n",
    "            return getattr(sys.modules[module], name)"
   ]
  },
  {
   "cell_type": "code",
   "execution_count": 4,
   "metadata": {},
   "outputs": [
    {
     "name": "stdout",
     "output_type": "stream",
     "text": [
      "<class 'str'>\n",
      "<class 'str'>\n",
      "<class 'str'>\n",
      "<class 'str'>\n",
      "<class 'str'>\n"
     ]
    }
   ],
   "source": [
    "for f in glob(\"final*.p\"):\n",
    "    print(type(f))"
   ]
  },
  {
   "cell_type": "code",
   "execution_count": 5,
   "metadata": {},
   "outputs": [],
   "source": [
    "def get_res(filename):\n",
    "    res = None\n",
    "    with open(filename,\"rb\") as f:\n",
    "        res = Custom_unpickler(f,fix_imports=True, encoding=\"ASCII\", errors=\"strict\",buffers=None).load()\n",
    "        # res = Custom_unpickler(f,fix_imports=True, encoding=\"ASCII\", errors=\"strict\").load()\n",
    "    return res\n",
    "    "
   ]
  },
  {
   "cell_type": "code",
   "execution_count": 9,
   "metadata": {},
   "outputs": [
    {
     "ename": "AttributeError",
     "evalue": "module 'algos' has no attribute 'PopulationE'",
     "output_type": "error",
     "traceback": [
      "\u001b[0;31m---------------------------------------------------------------------------\u001b[0m",
      "\u001b[0;31mAttributeError\u001b[0m                            Traceback (most recent call last)",
      "\u001b[1;32mセル5 を /Users/maya/OneDrive - お茶の水女子大学/lab/soturon/soturon/judge-system/decision_seq/get_seq_from_natsenei.ipynb\u001b[0m in \u001b[0;36m<cell line: 1>\u001b[0;34m()\u001b[0m\n\u001b[0;32m----> <a href='vscode-notebook-cell:/Users/maya/OneDrive%20-%20%E3%81%8A%E8%8C%B6%E3%81%AE%E6%B0%B4%E5%A5%B3%E5%AD%90%E5%A4%A7%E5%AD%A6/lab/soturon/soturon/judge-system/decision_seq/get_seq_from_natsenei.ipynb#W4sZmlsZQ%3D%3D?line=0'>1</a>\u001b[0m all_res \u001b[39m=\u001b[39m [get_res(f) \u001b[39mfor\u001b[39;00m f \u001b[39min\u001b[39;00m glob(\u001b[39m\"\u001b[39m\u001b[39mfinal*.p\u001b[39m\u001b[39m\"\u001b[39m)]\n",
      "\u001b[1;32mセル5 を /Users/maya/OneDrive - お茶の水女子大学/lab/soturon/soturon/judge-system/decision_seq/get_seq_from_natsenei.ipynb\u001b[0m in \u001b[0;36m<listcomp>\u001b[0;34m(.0)\u001b[0m\n\u001b[0;32m----> <a href='vscode-notebook-cell:/Users/maya/OneDrive%20-%20%E3%81%8A%E8%8C%B6%E3%81%AE%E6%B0%B4%E5%A5%B3%E5%AD%90%E5%A4%A7%E5%AD%A6/lab/soturon/soturon/judge-system/decision_seq/get_seq_from_natsenei.ipynb#W4sZmlsZQ%3D%3D?line=0'>1</a>\u001b[0m all_res \u001b[39m=\u001b[39m [get_res(f) \u001b[39mfor\u001b[39;00m f \u001b[39min\u001b[39;00m glob(\u001b[39m\"\u001b[39m\u001b[39mfinal*.p\u001b[39m\u001b[39m\"\u001b[39m)]\n",
      "\u001b[1;32mセル5 を /Users/maya/OneDrive - お茶の水女子大学/lab/soturon/soturon/judge-system/decision_seq/get_seq_from_natsenei.ipynb\u001b[0m in \u001b[0;36mget_res\u001b[0;34m(filename)\u001b[0m\n\u001b[1;32m      <a href='vscode-notebook-cell:/Users/maya/OneDrive%20-%20%E3%81%8A%E8%8C%B6%E3%81%AE%E6%B0%B4%E5%A5%B3%E5%AD%90%E5%A4%A7%E5%AD%A6/lab/soturon/soturon/judge-system/decision_seq/get_seq_from_natsenei.ipynb#W4sZmlsZQ%3D%3D?line=1'>2</a>\u001b[0m res \u001b[39m=\u001b[39m \u001b[39mNone\u001b[39;00m\n\u001b[1;32m      <a href='vscode-notebook-cell:/Users/maya/OneDrive%20-%20%E3%81%8A%E8%8C%B6%E3%81%AE%E6%B0%B4%E5%A5%B3%E5%AD%90%E5%A4%A7%E5%AD%A6/lab/soturon/soturon/judge-system/decision_seq/get_seq_from_natsenei.ipynb#W4sZmlsZQ%3D%3D?line=2'>3</a>\u001b[0m \u001b[39mwith\u001b[39;00m \u001b[39mopen\u001b[39m(filename,\u001b[39m\"\u001b[39m\u001b[39mrb\u001b[39m\u001b[39m\"\u001b[39m) \u001b[39mas\u001b[39;00m f:\n\u001b[0;32m----> <a href='vscode-notebook-cell:/Users/maya/OneDrive%20-%20%E3%81%8A%E8%8C%B6%E3%81%AE%E6%B0%B4%E5%A5%B3%E5%AD%90%E5%A4%A7%E5%AD%A6/lab/soturon/soturon/judge-system/decision_seq/get_seq_from_natsenei.ipynb#W4sZmlsZQ%3D%3D?line=3'>4</a>\u001b[0m     res \u001b[39m=\u001b[39m Custom_unpickler(f,fix_imports\u001b[39m=\u001b[39;49m\u001b[39mTrue\u001b[39;49;00m, encoding\u001b[39m=\u001b[39;49m\u001b[39m\"\u001b[39;49m\u001b[39mASCII\u001b[39;49m\u001b[39m\"\u001b[39;49m, errors\u001b[39m=\u001b[39;49m\u001b[39m\"\u001b[39;49m\u001b[39mstrict\u001b[39;49m\u001b[39m\"\u001b[39;49m,buffers\u001b[39m=\u001b[39;49m\u001b[39mNone\u001b[39;49;00m)\u001b[39m.\u001b[39;49mload()\n\u001b[1;32m      <a href='vscode-notebook-cell:/Users/maya/OneDrive%20-%20%E3%81%8A%E8%8C%B6%E3%81%AE%E6%B0%B4%E5%A5%B3%E5%AD%90%E5%A4%A7%E5%AD%A6/lab/soturon/soturon/judge-system/decision_seq/get_seq_from_natsenei.ipynb#W4sZmlsZQ%3D%3D?line=4'>5</a>\u001b[0m     \u001b[39m# res = Custom_unpickler(f,fix_imports=True, encoding=\"ASCII\", errors=\"strict\").load()\u001b[39;00m\n\u001b[1;32m      <a href='vscode-notebook-cell:/Users/maya/OneDrive%20-%20%E3%81%8A%E8%8C%B6%E3%81%AE%E6%B0%B4%E5%A5%B3%E5%AD%90%E5%A4%A7%E5%AD%A6/lab/soturon/soturon/judge-system/decision_seq/get_seq_from_natsenei.ipynb#W4sZmlsZQ%3D%3D?line=5'>6</a>\u001b[0m \u001b[39mreturn\u001b[39;00m res\n",
      "File \u001b[0;32m/Library/Frameworks/Python.framework/Versions/3.8/lib/python3.8/pickle.py:1210\u001b[0m, in \u001b[0;36m_Unpickler.load\u001b[0;34m(self)\u001b[0m\n\u001b[1;32m   1208\u001b[0m             \u001b[39mraise\u001b[39;00m \u001b[39mEOFError\u001b[39;00m\n\u001b[1;32m   1209\u001b[0m         \u001b[39massert\u001b[39;00m \u001b[39misinstance\u001b[39m(key, bytes_types)\n\u001b[0;32m-> 1210\u001b[0m         dispatch[key[\u001b[39m0\u001b[39;49m]](\u001b[39mself\u001b[39;49m)\n\u001b[1;32m   1211\u001b[0m \u001b[39mexcept\u001b[39;00m _Stop \u001b[39mas\u001b[39;00m stopinst:\n\u001b[1;32m   1212\u001b[0m     \u001b[39mreturn\u001b[39;00m stopinst\u001b[39m.\u001b[39mvalue\n",
      "File \u001b[0;32m/Library/Frameworks/Python.framework/Versions/3.8/lib/python3.8/pickle.py:1526\u001b[0m, in \u001b[0;36m_Unpickler.load_global\u001b[0;34m(self)\u001b[0m\n\u001b[1;32m   1524\u001b[0m module \u001b[39m=\u001b[39m \u001b[39mself\u001b[39m\u001b[39m.\u001b[39mreadline()[:\u001b[39m-\u001b[39m\u001b[39m1\u001b[39m]\u001b[39m.\u001b[39mdecode(\u001b[39m\"\u001b[39m\u001b[39mutf-8\u001b[39m\u001b[39m\"\u001b[39m)\n\u001b[1;32m   1525\u001b[0m name \u001b[39m=\u001b[39m \u001b[39mself\u001b[39m\u001b[39m.\u001b[39mreadline()[:\u001b[39m-\u001b[39m\u001b[39m1\u001b[39m]\u001b[39m.\u001b[39mdecode(\u001b[39m\"\u001b[39m\u001b[39mutf-8\u001b[39m\u001b[39m\"\u001b[39m)\n\u001b[0;32m-> 1526\u001b[0m klass \u001b[39m=\u001b[39m \u001b[39mself\u001b[39;49m\u001b[39m.\u001b[39;49mfind_class(module, name)\n\u001b[1;32m   1527\u001b[0m \u001b[39mself\u001b[39m\u001b[39m.\u001b[39mappend(klass)\n",
      "\u001b[1;32mセル5 を /Users/maya/OneDrive - お茶の水女子大学/lab/soturon/soturon/judge-system/decision_seq/get_seq_from_natsenei.ipynb\u001b[0m in \u001b[0;36mCustom_unpickler.find_class\u001b[0;34m(self, module, name)\u001b[0m\n\u001b[1;32m     <a href='vscode-notebook-cell:/Users/maya/OneDrive%20-%20%E3%81%8A%E8%8C%B6%E3%81%AE%E6%B0%B4%E5%A5%B3%E5%AD%90%E5%A4%A7%E5%AD%A6/lab/soturon/soturon/judge-system/decision_seq/get_seq_from_natsenei.ipynb#W4sZmlsZQ%3D%3D?line=15'>16</a>\u001b[0m     \u001b[39mreturn\u001b[39;00m pickle\u001b[39m.\u001b[39m_getattribute(sys\u001b[39m.\u001b[39mmodules[module], name)[\u001b[39m0\u001b[39m]\n\u001b[1;32m     <a href='vscode-notebook-cell:/Users/maya/OneDrive%20-%20%E3%81%8A%E8%8C%B6%E3%81%AE%E6%B0%B4%E5%A5%B3%E5%AD%90%E5%A4%A7%E5%AD%A6/lab/soturon/soturon/judge-system/decision_seq/get_seq_from_natsenei.ipynb#W4sZmlsZQ%3D%3D?line=16'>17</a>\u001b[0m \u001b[39melse\u001b[39;00m:\n\u001b[0;32m---> <a href='vscode-notebook-cell:/Users/maya/OneDrive%20-%20%E3%81%8A%E8%8C%B6%E3%81%AE%E6%B0%B4%E5%A5%B3%E5%AD%90%E5%A4%A7%E5%AD%A6/lab/soturon/soturon/judge-system/decision_seq/get_seq_from_natsenei.ipynb#W4sZmlsZQ%3D%3D?line=17'>18</a>\u001b[0m     \u001b[39mreturn\u001b[39;00m \u001b[39mgetattr\u001b[39;49m(sys\u001b[39m.\u001b[39;49mmodules[module], name)\n",
      "\u001b[0;31mAttributeError\u001b[0m: module 'algos' has no attribute 'PopulationE'"
     ]
    }
   ],
   "source": [
    "all_res = [get_res(f) for f in glob(\"final*.p\")]"
   ]
  },
  {
   "cell_type": "code",
   "execution_count": 7,
   "metadata": {},
   "outputs": [
    {
     "ename": "SyntaxError",
     "evalue": "invalid syntax (<ipython-input-7-b529961c2583>, line 1)",
     "output_type": "error",
     "traceback": [
      "\u001b[0;36m  File \u001b[0;32m\"<ipython-input-7-b529961c2583>\"\u001b[0;36m, line \u001b[0;32m1\u001b[0m\n\u001b[0;31m    all_res[0]['container'][0].domains[]\u001b[0m\n\u001b[0m                                       ^\u001b[0m\n\u001b[0;31mSyntaxError\u001b[0m\u001b[0;31m:\u001b[0m invalid syntax\n"
     ]
    }
   ],
   "source": [
    "all_res[0]['container'][0].domains[]"
   ]
  },
  {
   "cell_type": "code",
   "execution_count": null,
   "metadata": {},
   "outputs": [],
   "source": []
  }
 ],
 "metadata": {
  "kernelspec": {
   "display_name": "Python 3.8.3 64-bit",
   "language": "python",
   "name": "python3"
  },
  "language_info": {
   "codemirror_mode": {
    "name": "ipython",
    "version": 3
   },
   "file_extension": ".py",
   "mimetype": "text/x-python",
   "name": "python",
   "nbconvert_exporter": "python",
   "pygments_lexer": "ipython3",
   "version": "3.8.3"
  },
  "vscode": {
   "interpreter": {
    "hash": "0adcc2737ebf6a4a119f135174df96668767fca1ef1112612db5ecadf2b6d608"
   }
  }
 },
 "nbformat": 4,
 "nbformat_minor": 5
}
